{
 "cells": [
  {
   "cell_type": "markdown",
   "metadata": {},
   "source": []
  },
  {
   "cell_type": "markdown",
   "metadata": {},
   "source": [
    "$\\textbf{\\large Using the Functions in TrajectoryClassifier module}$"
   ]
  },
  {
   "cell_type": "code",
   "execution_count": 18,
   "metadata": {},
   "outputs": [],
   "source": [
    "import numpy as np\n",
    "import math\n",
    "from stochastic.processes.continuous import WienerProcess\n",
    "from stochastic.processes.continuous import FractionalBrownianMotion\n",
    "from stochastic.processes.continuous import BrownianMotion\n",
    "from stochastic.processes.diffusion import OrnsteinUhlenbeckProcess\n",
    "from scipy.optimize import minimize_scalar\n"
   ]
  },
  {
   "cell_type": "markdown",
   "metadata": {},
   "source": [
    "1. $\\textbf{Computing the test statistcs:}$"
   ]
  },
  {
   "cell_type": "code",
   "execution_count": 19,
   "metadata": {},
   "outputs": [],
   "source": [
    "def maximal_excursion_test_stats(traj, d):\n",
    "\n",
    "    \"\"\" \n",
    "    Input parameter:\n",
    "    -------\n",
    "    traj : single trajectory from a stochatsic process\n",
    "    d : dimension of the stochastic process\n",
    "\n",
    "    Output result:\n",
    "    -------\n",
    "    This function will return the maximal excursion test statistics of the input trajectory\n",
    "\n",
    "    \"\"\"\n",
    "\n",
    "    traj = traj.reshape(-1,d)\n",
    "    stats = (np.sqrt(d) * np.max(np.linalg.norm(traj[1:] - traj[0], axis = 1))) / (np.sqrt(np.sum(np.square(np.linalg.norm(np.diff(traj, axis = 0), axis = 1)))))\n",
    "    return stats\n"
   ]
  },
  {
   "cell_type": "code",
   "execution_count": 4,
   "metadata": {},
   "outputs": [
    {
     "data": {
      "text/plain": [
       "0.6371353765566944"
      ]
     },
     "execution_count": 4,
     "metadata": {},
     "output_type": "execute_result"
    }
   ],
   "source": [
    "# Example: Compute the test stats of a BM trajectory of dim 1 with size 10\n",
    "\n",
    "std_bm = WienerProcess(t = 10)\n",
    "std_bm_traj = std_bm.sample(10)\n",
    "maximal_excursion_test_stats(std_bm_traj, d = 1)"
   ]
  },
  {
   "cell_type": "code",
   "execution_count": 6,
   "metadata": {},
   "outputs": [
    {
     "data": {
      "text/plain": [
       "1.9295355236470642"
      ]
     },
     "execution_count": 6,
     "metadata": {},
     "output_type": "execute_result"
    }
   ],
   "source": [
    "# Example: Compute the test stats of a fBM trajectory of dim 2 with size 20 and hurst index = 0.85\n",
    "\n",
    "super_fbm = FractionalBrownianMotion(hurst = 0.85, t = 20)\n",
    "super_fbm_traj = np.dstack([[super_fbm.sample(20)], [super_fbm.sample(20)]])\n",
    "maximal_excursion_test_stats(super_fbm_traj, d = 2)"
   ]
  },
  {
   "cell_type": "markdown",
   "metadata": {},
   "source": [
    "2. $\\textbf{Computing the MSD estimates of 1D trajectory:}$"
   ]
  },
  {
   "cell_type": "code",
   "execution_count": 7,
   "metadata": {},
   "outputs": [],
   "source": [
    "def MSD_estimate1d(traj, traj_length) : \n",
    "    \"\"\"\n",
    "    Input parameter:\n",
    "    -------\n",
    "    traj: single trajectory from a 1d stochastic process\n",
    "    traj_length: the length of the trajectory\n",
    "\n",
    "    Output result:\n",
    "    -------\n",
    "    This function will return the MSD estimates of the input trajectory\n",
    "\n",
    "    \"\"\"\n",
    "    output_array = np.zeros(traj_length + 1)\n",
    "    for lag in range(1,traj_length + 1):\n",
    "        squared_distances = [(traj[i] - traj[i-lag]) ** 2 for i in range(lag,traj_length + 1)]\n",
    "        output_array[lag] = np.sum(squared_distances) / (traj_length - lag + 1)\n",
    "    return output_array"
   ]
  },
  {
   "cell_type": "code",
   "execution_count": 8,
   "metadata": {},
   "outputs": [
    {
     "data": {
      "text/plain": [
       "array([ 0.        ,  1.03198095,  2.12582867,  2.95922414,  3.49717114,\n",
       "        4.10197911,  5.94362021,  8.4225104 , 11.28874932, 12.82304485,\n",
       "       22.04663617])"
      ]
     },
     "execution_count": 8,
     "metadata": {},
     "output_type": "execute_result"
    }
   ],
   "source": [
    "# Example: Compute the MSD estimates of a BM trajectory of dim 1 with size 10\n",
    "\n",
    "std_bm = WienerProcess(t = 10)\n",
    "std_bm_traj = std_bm.sample(10)\n",
    "MSD_estimate1d(std_bm_traj, 10)"
   ]
  },
  {
   "cell_type": "code",
   "execution_count": 9,
   "metadata": {},
   "outputs": [
    {
     "data": {
      "text/plain": [
       "array([0.        , 1.06446277, 1.25500166, 1.35529989, 2.26169258,\n",
       "       2.89928538, 3.28345746, 3.64916118, 4.07243569, 4.38676159,\n",
       "       4.00919071, 4.37726035, 4.33989738, 3.95183286, 3.56763462,\n",
       "       3.91483852, 3.61299789, 1.28434088, 3.11719906, 3.48364676,\n",
       "       0.20647917])"
      ]
     },
     "execution_count": 9,
     "metadata": {},
     "output_type": "execute_result"
    }
   ],
   "source": [
    "# Example: Compute the MSD estimates of a OU trajectory of dim 1 with size 20 and speed = 0.53\n",
    "\n",
    "ou = OrnsteinUhlenbeckProcess(speed = 0.53, t = 20)\n",
    "ou_traj = ou.sample(20)\n",
    "MSD_estimate1d(ou_traj, 20)"
   ]
  },
  {
   "cell_type": "markdown",
   "metadata": {},
   "source": [
    "3. $\\textbf{Computing the MSD estimates of 2D trajectory:}$"
   ]
  },
  {
   "cell_type": "code",
   "execution_count": 10,
   "metadata": {},
   "outputs": [],
   "source": [
    "def MSD_estimate2d(traj,traj_length): \n",
    "    \"\"\"\n",
    "    Input parameter:\n",
    "    -------\n",
    "    traj: single trajectory from a 2d stochastic process\n",
    "    traj_length: the length of the trajectory\n",
    "\n",
    "    Output result:\n",
    "    -------\n",
    "    This function will return the MSD estimates of the input trajectory\n",
    "\n",
    "    \"\"\"\n",
    "    traj = traj.reshape(-1,2)\n",
    "    output_array = np.zeros(traj_length + 1)\n",
    "    for lag in range(1,traj_length + 1):\n",
    "        squared_distances = [((traj[i,0] - traj[i-lag,0]) ** 2 + (traj[i,1] - traj[i-lag,1]) ** 2) for i in range(lag,traj_length + 1)]\n",
    "        output_array[lag] = np.sum(squared_distances) / (traj_length - lag + 1)\n",
    "    return output_array"
   ]
  },
  {
   "cell_type": "code",
   "execution_count": 11,
   "metadata": {},
   "outputs": [
    {
     "data": {
      "text/plain": [
       "array([  0.        ,   1.83430122,   4.83098124,   8.29904154,\n",
       "        11.3172328 ,  15.5245898 ,  20.55491256,  28.01893184,\n",
       "        33.77238212,  38.11576635,  41.39049796,  45.41516987,\n",
       "        51.29919095,  56.37728934,  61.77706239,  69.28987866,\n",
       "        78.23264183,  89.75373768, 110.47802527, 134.12762107,\n",
       "       168.00520311])"
      ]
     },
     "execution_count": 11,
     "metadata": {},
     "output_type": "execute_result"
    }
   ],
   "source": [
    "# Example: Compute the MSD estimates of a fBM trajectory of dim 2 with size 20 and hurst index = 0.85\n",
    "\n",
    "super_fbm = FractionalBrownianMotion(hurst = 0.85, t = 20)\n",
    "super_fbm_traj = np.dstack([[super_fbm.sample(20)], [super_fbm.sample(20)]])\n",
    "MSD_estimate2d(super_fbm_traj, 20)"
   ]
  },
  {
   "cell_type": "code",
   "execution_count": 12,
   "metadata": {},
   "outputs": [
    {
     "data": {
      "text/plain": [
       "array([ 0.        ,  2.12886904,  6.13124706, 10.03436857, 12.17277468,\n",
       "       15.18057976, 17.02756497, 18.41373105, 13.59362331, 10.91085486,\n",
       "       10.62622122])"
      ]
     },
     "execution_count": 12,
     "metadata": {},
     "output_type": "execute_result"
    }
   ],
   "source": [
    "# Example: Compute the MSD estimates of a BM trajectory of dim 2 with size 10 \n",
    "\n",
    "std_bm = WienerProcess(t = 10)\n",
    "std_bm_traj = np.dstack([[std_bm.sample(10)], [std_bm.sample(10)]])\n",
    "MSD_estimate2d(std_bm_traj, 10)"
   ]
  },
  {
   "cell_type": "markdown",
   "metadata": {},
   "source": [
    "4. $\\textbf{Asymptotic CDF of test stats in}$ $ d = 1$ $\\textbf{under the null}:$"
   ]
  },
  {
   "cell_type": "code",
   "execution_count": 13,
   "metadata": {},
   "outputs": [],
   "source": [
    "def F_asym1d(x, r = 20000):\n",
    "    \"\"\"\n",
    "    Input parameter:\n",
    "    -------\n",
    "    x: test statistics\n",
    "    r: number of truncated terms in the analytic expression of the asymptotic CDF. By default, r = 20000\n",
    "\n",
    "    Output result: \n",
    "    -------\n",
    "    The (approximate) value of asymptotic CDF evaluated at x. \n",
    "\n",
    "    Remarks:\n",
    "    -------\n",
    "    This function only computes the CDF of test stats when dimension = 1. For dimension = 2 and 3, the analytic \n",
    "    expression of CDF will be different. \n",
    "\n",
    "    \"\"\"\n",
    "    a = np.arange(r)\n",
    "    b = a[::2]\n",
    "    s = 0\n",
    "    for i in range(len(b)):\n",
    "        s = s + ((-1)**(b[i]/2))*(4/((b[i]+1)*(np.pi)))*(math.exp((-1/8)*(((np.pi)*(b[i]+1))/x)**2))\n",
    "    return s"
   ]
  },
  {
   "cell_type": "code",
   "execution_count": 14,
   "metadata": {},
   "outputs": [
    {
     "data": {
      "text/plain": [
       "0.7661681598178136"
      ]
     },
     "execution_count": 14,
     "metadata": {},
     "output_type": "execute_result"
    }
   ],
   "source": [
    "# Example: Evaluate the CDF at x = 1.56784\n",
    "\n",
    "F_asym1d(1.56784)"
   ]
  },
  {
   "cell_type": "markdown",
   "metadata": {},
   "source": [
    "5. $\\textbf{Table of the empirical distributions}$ ($d = 2):$ "
   ]
  },
  {
   "cell_type": "code",
   "execution_count": 16,
   "metadata": {},
   "outputs": [],
   "source": [
    "def F_hat2d(n, x, func, num_of_MC = 10000):\n",
    "\n",
    "    \"\"\"\n",
    "    Input parameters:\n",
    "    -------\n",
    "    n: This is an array of consecutive integers, starts from 2, ends with 1+len(n).\n",
    "    x: Usually x = np.arange(0,5.1,0.1).\n",
    "    func: This is a function parameter. It should compute the maximal excursion test stats of the input trajectories.\n",
    "    num_of_MC: Number of Monte Carlo Simulations. By default, num_of_MC = 10000.\n",
    "\n",
    "    Output result:\n",
    "    -------\n",
    "    This function will return a table, with ith row being the empirical CDF of T_{i+1} evaluated at x.\n",
    "    Here, T_{i+1} is the maximal excursion test stats of trajectories with size i+1\n",
    "\n",
    "    \"\"\"\n",
    "    table = np.zeros([len(n), len(x)])\n",
    "    for i in range(len(n)):\n",
    "        std_bm = WienerProcess(t = int(i+2))\n",
    "        std_bm_traj = np.dstack([[std_bm.sample(int(i+2)) for k in range(num_of_MC)], [std_bm.sample(int(i+2)) for k in range(num_of_MC)]])\n",
    "        stats = func(std_bm_traj)\n",
    "        for j in range(len(x)):\n",
    "            table[i, j] = np.sum(np.where(stats <= x[j], 1, 0)) / num_of_MC\n",
    "    return table\n",
    "\n",
    "\n",
    "def test_stats(traj): \n",
    "    result = np.zeros(len(traj))\n",
    "    for i in range(len(traj)):\n",
    "        result[i] = (np.sqrt(2) * np.max(np.linalg.norm(traj[i,:,:][1:] - traj[i,:,:][0], axis = 1))) / (np.sqrt(np.sum(np.square(np.linalg.norm(np.diff(traj[i,:,:], axis = 0), axis = 1)))))\n",
    "    return result\n"
   ]
  },
  {
   "cell_type": "code",
   "execution_count": null,
   "metadata": {},
   "outputs": [],
   "source": [
    "# Example \n",
    "\n",
    "n = np.arange(2, 11)\n",
    "x = np.arange(0,5.1,0.1)\n",
    "table = F_hat2d(n, x, test_stats)\n",
    "print(table)"
   ]
  },
  {
   "cell_type": "markdown",
   "metadata": {},
   "source": [
    "6. $\\textbf{Computing the estimate of number of true null hypothese:}$ "
   ]
  },
  {
   "cell_type": "code",
   "execution_count": 21,
   "metadata": {},
   "outputs": [],
   "source": [
    "def num_of_null(p,m):\n",
    "    \"\"\"\n",
    "    Input parameters:\n",
    "    -------\n",
    "    p: Sorted pvalues of the m null hypotheses\n",
    "    m: Number of null hypothese that we are testing\n",
    "\n",
    "    Output result:\n",
    "    -------\n",
    "    This function will give an estimate of m_0, the number of true null hypotheses.\n",
    "    Knowing \\widehat{m_0} enables us to carry out adaptive BH procedure. \n",
    "\n",
    "    \"\"\"\n",
    "    S = (1-p) / (m+1-np.arange(m))\n",
    "    j = np.where(np.diff(S)<0)[-1][0]\n",
    "    result = min(1/S[j] + 1, m)\n",
    "    return result"
   ]
  },
  {
   "cell_type": "code",
   "execution_count": 22,
   "metadata": {},
   "outputs": [
    {
     "data": {
      "text/plain": [
       "11"
      ]
     },
     "execution_count": 22,
     "metadata": {},
     "output_type": "execute_result"
    }
   ],
   "source": [
    "# Example:\n",
    "\n",
    "p = np.array([0.123,0.012,0.876,0.986,0.00123,0.098,0.98,0.99,0.567,0.876,0.212])\n",
    "sorted_pvalues = np.sort(p)\n",
    "m = len(p)\n",
    "num_of_null(sorted_pvalues, m)"
   ]
  },
  {
   "cell_type": "markdown",
   "metadata": {},
   "source": [
    "7. $\\textbf{Computing the dfBB trajectory give a fbm trajectory:}$ "
   ]
  },
  {
   "cell_type": "code",
   "execution_count": 33,
   "metadata": {},
   "outputs": [],
   "source": [
    "def dfBB(traj,n):\n",
    "    \"\"\"\n",
    "    Input parameters:\n",
    "    -------\n",
    "    traj: A 1D fractional Brownian trajectory\n",
    "    n: Size of input trajectory\n",
    "\n",
    "    Output result:\n",
    "    -------\n",
    "    This function will return the differenced fractional Brownian bridge trajectory of the input fBM trajectory.\n",
    "\n",
    "    \"\"\"\n",
    "    first_element = traj[0]\n",
    "    last_element = traj[-1]\n",
    "    indices = np.arange(len(traj))\n",
    "    fBB = traj - first_element - (indices / n) * (last_element - first_element)\n",
    "    DFBB = np.diff(fBB)\n",
    "    return DFBB"
   ]
  },
  {
   "cell_type": "code",
   "execution_count": 24,
   "metadata": {},
   "outputs": [
    {
     "data": {
      "text/plain": [
       "array([-0.97388084, -0.19499523, -0.36884033, -0.17443622, -1.55404247,\n",
       "        1.72596251, -0.06693747, -1.15564179,  1.66154667,  0.41607108,\n",
       "       -0.55290371,  0.07748312, -0.51159915,  0.11624413,  0.95702439,\n",
       "       -0.68897356, -0.41331186, -0.1718313 ,  0.78009875,  1.09296327])"
      ]
     },
     "execution_count": 24,
     "metadata": {},
     "output_type": "execute_result"
    }
   ],
   "source": [
    "# Example: Compute the dfBB trajectory of a given fbm trajectory of size 20 with h = 0.125\n",
    "\n",
    "sub_fbm = FractionalBrownianMotion(hurst = 0.125, t = 20)\n",
    "sub_fbm_traj = sub_fbm.sample(20)\n",
    "dfBB(sub_fbm_traj, 20)"
   ]
  },
  {
   "cell_type": "markdown",
   "metadata": {},
   "source": [
    "8. $\\textbf{Computing the sample autocorrelation give a dfBB trajectory:}$ "
   ]
  },
  {
   "cell_type": "code",
   "execution_count": 34,
   "metadata": {},
   "outputs": [],
   "source": [
    "def sample_autocorrelation(traj,n) : \n",
    "    \"\"\"\n",
    "    Input parameters:\n",
    "    -------\n",
    "    traj: A 1D diffrenced fractional Brownian bridge trajectory\n",
    "    n: Size of input trajectory + 1\n",
    "\n",
    "    Output result:\n",
    "    -------\n",
    "    This function will return the sample autocorrelation of the input dfBB trajectory. \n",
    "\n",
    "    \"\"\"\n",
    "    output_array = np.zeros(n) \n",
    "    for lag in range(0,n): \n",
    "        squared_distances = [traj[i] * traj[i-lag] for i in range(lag,n)]\n",
    "        output_array[lag] = np.sum(squared_distances)\n",
    "        autocorrelation = output_array / output_array[0]\n",
    "    return autocorrelation\n"
   ]
  },
  {
   "cell_type": "code",
   "execution_count": 29,
   "metadata": {},
   "outputs": [
    {
     "data": {
      "text/plain": [
       "array([ 1.00000000e+00, -2.16037595e-01, -2.54627052e-01,  2.83703695e-01,\n",
       "       -1.15697613e-01, -2.57692353e-02,  1.17866004e-01, -2.08972296e-01,\n",
       "       -5.98510110e-02,  8.05942362e-02, -5.04129067e-04,  7.41677547e-02,\n",
       "       -4.91021790e-02,  1.05844607e-01,  3.97557310e-03, -6.88861994e-02,\n",
       "       -2.86191732e-03, -2.62063889e-02, -6.57249137e-02, -7.19113402e-02])"
      ]
     },
     "execution_count": 29,
     "metadata": {},
     "output_type": "execute_result"
    }
   ],
   "source": [
    "# Example: Compute the sample autocorrelation give a dfBB trajectory:\n",
    "dfbb = np.array([-0.97388084, -0.19499523, -0.36884033, -0.17443622, -1.55404247,\n",
    "        1.72596251, -0.06693747, -1.15564179,  1.66154667,  0.41607108,\n",
    "       -0.55290371,  0.07748312, -0.51159915,  0.11624413,  0.95702439,\n",
    "       -0.68897356, -0.41331186, -0.1718313 ,  0.78009875,  1.09296327])\n",
    "sample_autocorrelation(dfbb, 20)\n"
   ]
  },
  {
   "cell_type": "markdown",
   "metadata": {},
   "source": [
    "9. $\\textbf{Objective function of hurst exponent estimate:}$ "
   ]
  },
  {
   "cell_type": "code",
   "execution_count": 35,
   "metadata": {},
   "outputs": [],
   "source": [
    "def objective_hurst_estimate(traj,h,n):\n",
    "    \"\"\"\n",
    "    Input parameters:\n",
    "    ------\n",
    "    traj: A 1D fractional Brownian trajectory\n",
    "    h: Hurst exponent of that trajectory\n",
    "    n: Size of the input trajectory\n",
    "\n",
    "    Output result:\n",
    "    ------\n",
    "    This is the objective function when we do the hurst exponent estimation. \n",
    "    The hurst exponent estimate \\widehat{h} is the global minimum of this function on (0,1)\n",
    "\n",
    "    \"\"\"\n",
    "    pho_hat = sample_autocorrelation(dfBB(traj,n),n)\n",
    "    func = np.zeros(n-1)\n",
    "    for i in range(n-1):\n",
    "        func[i] = (pho_hat[i+1]-(0.5 * ((i+2)**(2*h)-2*((i+1)**(2*h))+i**(2*h)) + n**(2*h-2) + ((i+1)**(2*h)-(n-i-1)**(2*h)-n**(2*h))/(n*(n-i-1)))/(1-n**(2*h-2)))**2\n",
    "    return np.sum(func)"
   ]
  },
  {
   "cell_type": "code",
   "execution_count": null,
   "metadata": {},
   "outputs": [],
   "source": [
    "# No example running for this function, as we are only interested in the minimizer of the function, not the function itself. "
   ]
  },
  {
   "cell_type": "markdown",
   "metadata": {},
   "source": [
    "10. $\\textbf{Hurst exponent estimation:}$ "
   ]
  },
  {
   "cell_type": "code",
   "execution_count": 31,
   "metadata": {},
   "outputs": [],
   "source": [
    "def hurst_exponent_estimate(traj,n):\n",
    "    \"\"\"\n",
    "    Input parameter:\n",
    "    ------\n",
    "    traj: A set of 1D fractional Brownian trajectories.\n",
    "    n: Size of input trajectories\n",
    "    \n",
    "    Output result:\n",
    "    ------\n",
    "    This function will return the hurst exponent estimate of the input trajectories. \n",
    "\n",
    "    \"\"\"\n",
    "    \n",
    "    hurst = np.zeros(len(traj))\n",
    "    for i in range(len(traj)):\n",
    "        given_traj = traj[i,:]\n",
    "        fixed_traj_function = lambda h: objective_hurst_estimate(given_traj,h,n)\n",
    "        result = minimize_scalar(fixed_traj_function, bounds = (0,1), method = 'bounded')\n",
    "        hurst[i] = result.x\n",
    "    return hurst "
   ]
  },
  {
   "cell_type": "code",
   "execution_count": 42,
   "metadata": {},
   "outputs": [
    {
     "data": {
      "text/plain": [
       "array([0.28548465, 0.32931407, 0.31197575, 0.33077331, 0.30766873,\n",
       "       0.31729826, 0.28165634, 0.33075118, 0.28162026, 0.31502437])"
      ]
     },
     "execution_count": 42,
     "metadata": {},
     "output_type": "execute_result"
    }
   ],
   "source": [
    "# Example: Let's estimate the hurst exponent of 10 fbm trajectories of size 1000 with h = 0.32\n",
    "\n",
    "sub_fbm = FractionalBrownianMotion(hurst = 0.32, t = 1000)\n",
    "sub_fbm_traj = np.stack([sub_fbm.sample(1000) for i in range(10)])\n",
    "hurst_exponent_estimate(sub_fbm_traj, 1000)"
   ]
  },
  {
   "cell_type": "markdown",
   "metadata": {},
   "source": [
    "11. $\\textbf{Table of hurst exponent thresholds for different n:}$ "
   ]
  },
  {
   "cell_type": "code",
   "execution_count": 45,
   "metadata": {},
   "outputs": [],
   "source": [
    "def hurst_threshold(size, num_of_MC = 100):\n",
    "    \"\"\"\n",
    "    Input parameter:\n",
    "    ------\n",
    "    size: This is an array of consecutive integers, starts from 2, ends with 1+len(n). For example, size could be np.arange(2,101).\n",
    "    num_of_MC: Number of Monte Carlo Simulations. By default, it is 100.\n",
    "\n",
    "\n",
    "    Output result:\n",
    "    ------\n",
    "    This function will give the thresholds of using hurst exponent estimates to do classification of different size of trajectories.\n",
    "\n",
    "\n",
    "    \"\"\"\n",
    "    result = np.zeros([len(size), 2])\n",
    "    for i in range(len(size)):\n",
    "        std_bm = FractionalBrownianMotion(hurst = 0.5, t = int(i+2))\n",
    "        std_bm_traj = np.stack([std_bm.sample(int(i+2)) for k in range(num_of_MC)])\n",
    "        hurst_exponent = hurst_exponent_estimate(std_bm_traj, i+2)\n",
    "        sort_hurst_exponent = np.sort(hurst_exponent)\n",
    "        result[i,:] = np.array([sort_hurst_exponent[2], sort_hurst_exponent[97]])\n",
    "    return result"
   ]
  },
  {
   "cell_type": "code",
   "execution_count": null,
   "metadata": {},
   "outputs": [],
   "source": [
    "# Example: \n",
    "\n",
    "n = np.arange(2,101)\n",
    "hurst_threshold(n)\n"
   ]
  }
 ],
 "metadata": {
  "kernelspec": {
   "display_name": "cmp23",
   "language": "python",
   "name": "python3"
  },
  "language_info": {
   "codemirror_mode": {
    "name": "ipython",
    "version": 3
   },
   "file_extension": ".py",
   "mimetype": "text/x-python",
   "name": "python",
   "nbconvert_exporter": "python",
   "pygments_lexer": "ipython3",
   "version": "3.11.4"
  },
  "orig_nbformat": 4
 },
 "nbformat": 4,
 "nbformat_minor": 2
}
